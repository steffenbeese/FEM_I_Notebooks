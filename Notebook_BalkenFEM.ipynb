{
 "cells": [
  {
   "cell_type": "markdown",
   "id": "32077b97",
   "metadata": {
    "editable": true,
    "slideshow": {
     "slide_type": "slide"
    }
   },
   "source": [
    "# Balken FEM mit Python\n",
    "\n",
    "In diesem Notebook wird die Lösung eines Balkenproblems mit der Methode der finiten Elemente (FEM) in Python implementiert. Die Lösung wird mit der analytischen Lösung verglichen und die Konvergenz der FEM-Lösung wird untersucht.\n",
    "\n",
    "<div style=\"text-align: center;width: 400px;\">\n",
    "    <img src=\"images/Balken_TM2.png\" alt=\"Balken_TM21.png\" style=\"width: 100%;\">\n",
    "</div>\n",
    "\n",
    "Die Differentialgleichung für die Durchbiegung $w$ eines Balkens mit konstanter Biegesteifigkeit $EI$ lautet:\n",
    "\n",
    "$$\n",
    "EI w^{IV} = q_0\n",
    "$$\n",
    "\n",
    "Die schwache Form der Differentialgleichung wurde in der Vorlesung besprochen und lautet:\n",
    "\n",
    "$$\n",
    " EI_y \\int_L \\delta w'' w'' \\text{ dx} - \\int_L q(x) \\delta w \\text{ dx} - F_I \\delta w_I - M_J \\delta w'_J = 0 \\; .\n",
    "$$\n",
    "\n",
    "Hierbei stellen $F_I$ und $M_I$ die an den Knoten angreifenden Einzellasten und Momente dar"
   ]
  },
  {
   "cell_type": "markdown",
   "id": "5fa5ce19",
   "metadata": {
    "editable": true,
    "slideshow": {
     "slide_type": "slide"
    }
   },
   "source": [
    ".\n",
    "\n",
    "Das Balkenelement hat folgende interne Freiheitsgrade und angreifende Lasten:\n",
    "\n",
    "<div style=\"text-align: center;width: 400px;\">\n",
    "    <img src=\"images/Balkenelement.png\" alt=\"Balkenelement.png\" style=\"width: 100%;\">\n",
    "</div>\n",
    "\n",
    "Ziel ist es, die schwache Form der Differentialgleichung in ein algebraisches Gleichungssystem umzuwandeln:\n",
    "\n",
    "$$\n",
    "\\boldsymbol{K} \\boldsymbol{w} = \\boldsymbol{F}_Q + \\boldsymbol{F} + \\boldsymbol{M}\n",
    "$$\n",
    "\n",
    "Hierbei hat der Vektor $\\boldsymbol{F}$ der äußeren angreifenden Lasten nur Einträge an den Stellen, die mit den Durchbiegungen verknüpft sind. Der Vektor $\\boldsymbol{M}$ hat hingegen nur Einträge an den Stellen, die mit den Neigungen verknüpft sind."
   ]
  },
  {
   "cell_type": "markdown",
   "id": "aec58126",
   "metadata": {
    "editable": false,
    "slideshow": {
     "slide_type": "slide"
    }
   },
   "source": [
    "## Verschiebungsansatz\n",
    "\n",
    "Analog zum Stabelement führen wir die normierte Koordinate $\\xi=\\frac{x}{\\ell_e}$ ein. Die Ansatzfunktionen für die Durchbiegung $w_h$ wird dann als Linearkombination der Formfunktionen $N_I$ und der Freiheitsgrade $\\hat{w}_I$ geschrieben: \n",
    "$$\n",
    "w_h = \\sum_{I=1}^{6} N_I \\hat{w}_I\n",
    "$$\n",
    "\n",
    "Als Formfunktionen $N_I$ werden die Hermite-Polynome verwendet. Diese lauten:\n",
    "\n",
    "$$\n",
    "\\begin{align}\n",
    "  N_1 &= 1-3\\xi^2+2\\xi^3 \\\\ \n",
    "  N_2 &= (\\xi-2\\xi^2+\\xi^3)\\ell_e \\\\ \n",
    "  N_3 &= 3\\xi^2-2\\xi^3 \\\\ \n",
    "  N_4 &= (-\\xi^2+\\xi^3)\\ell_e\n",
    "\\end{align}\n",
    "$$"
   ]
  },
  {
   "cell_type": "code",
   "execution_count": null,
   "id": "e081e8f7",
   "metadata": {
    "editable": true,
    "slideshow": {
     "slide_type": "subslide"
    },
    "tags": [
     "remove_input "
    ]
   },
   "outputs": [],
   "source": [
    "import numpy as np\n",
    "import plotly.graph_objects as go\n",
    "\n",
    "# Define the x values\n",
    "x = np.linspace(0, 1, 100)\n",
    "\n",
    "# Define the shape functions - Hermite polynomials 4th order\n",
    "N1 = 1 - 3*x**2 + 2*x**3\n",
    "N2 = x - 2*x**2 + x**3\n",
    "N3 = 3*x**2 - 2*x**3\n",
    "N4 = -x**2 + x**3\n",
    "\n",
    "# Create the figure\n",
    "fig = go.Figure()\n",
    "\n",
    "# Add traces for each shape function\n",
    "fig.add_trace(go.Scatter(x=x, y=N1, mode='lines', name='N_1'))\n",
    "fig.add_trace(go.Scatter(x=x, y=N2, mode='lines', name='N_2'))\n",
    "fig.add_trace(go.Scatter(x=x, y=N3, mode='lines', name='N_3'))\n",
    "fig.add_trace(go.Scatter(x=x, y=N4, mode='lines', name='N_4'))\n",
    "fig.update_layout(\n",
    "    xaxis_title=r\"$\\xi$\",\n",
    "    yaxis_title=r'$N(\\xi)$',\n",
    "    legend=dict(x=1.05, y=1),\n",
    "    font=dict(family=\"Serif\", size=15),\n",
    "    template='plotly_white',\n",
    "    xaxis=dict(showgrid=True, gridcolor='grey', gridwidth=0.6, griddash='dash'),\n",
    "    yaxis=dict(showgrid=True, gridcolor='grey', gridwidth=0.6, griddash='dash')\n",
    ")"
   ]
  },
  {
   "cell_type": "markdown",
   "id": "ea2941f5",
   "metadata": {
    "editable": true,
    "slideshow": {
     "slide_type": "slide"
    }
   },
   "source": [
    "## Element-Steifigkeitsmatrix für ein Balkenelemt\n",
    "\n",
    "Die Formfunktionen sind bzgl. der lokalen Koordinate $\\xi$ definiert. In der schwachen Formulierung wird die Ableitung der Formfunktionen bzgl. der globalen Koordinate $x$ benötigt. Die Ableitung der Formfunktionen bzgl. der globalen Koordinate $x$ ist gegeben durch:\n",
    "$$\n",
    " \\frac{\\text{d} \\xi}{\\text{d} x} = \\frac{1}{\\ell_e} \\qquad \\rightarrow \\qquad \\text{d} x= \\ell_e \\text{d} \\xi\n",
    "$$\n",
    "\n",
    "Wenn wir uns nun den ersten Term der schwachen Form herausgreifen und die Ableitungen bilden lauten diese:\n",
    "\n",
    "$$\n",
    "\\begin{align*}\n",
    " EI_y \\int_L \\delta w'' w'' \\text{ dx}  & = EI_y \\int_0^1   \\frac{\\text{d}^2 N_I}{\\text{dx dx}} \\delta \\hat{w}_I \\frac{\\text{d}^2 N_J}{\\text{dx dx}} \\hat{w}_J \\ell_e \\text{ d} \\xi  \\\\\n",
    " & = \\delta \\hat{w}_I \\frac{EI_y}{\\ell_e^3} \\int_0^1   N_I''N_J''    \\text{ d} \\xi \\hat{w}_J \\\\\n",
    " & =\\delta \\hat{w}_I \\boldsymbol{K}_{IJ} \\hat{w}_J\n",
    "\\end{align*}\n",
    "$$\n",
    "\n",
    "Die Steifigkeitsmatrix $\\boldsymbol{K}_{IJ}$ wollen wir jetzt interaktiv berechnen."
   ]
  },
  {
   "cell_type": "markdown",
   "id": "23218696",
   "metadata": {
    "editable": true,
    "slideshow": {
     "slide_type": "slide"
    }
   },
   "source": [
    "### Definition der Formfunktionen"
   ]
  },
  {
   "cell_type": "code",
   "execution_count": null,
   "id": "a7367116",
   "metadata": {
    "editable": true,
    "slideshow": {
     "slide_type": ""
    }
   },
   "outputs": [],
   "source": [
    "import sympy as sp\n",
    "\n",
    "# Define the variables\n",
    "xi,ell = sp.symbols('xi, ell')\n",
    "\n",
    "# Define the Hermite polynomials\n",
    "N1 = 1 - 3*xi**2 + 2*xi**3\n",
    "N2 = (xi - 2*xi**2 + xi**3)*ell\n",
    "N3 = 3*xi**2 - 2*xi**3\n",
    "N4 = (-xi**2 + xi**3)*ell\n",
    "\n",
    "N = sp.Matrix([[N1], [N2], [N3], [N4]])\n",
    "N"
   ]
  },
  {
   "cell_type": "markdown",
   "id": "a4240b91",
   "metadata": {
    "editable": true,
    "slideshow": {
     "slide_type": "slide"
    }
   },
   "source": [
    "### Berechnung der Ableitungen\n",
    "\n",
    "Siehe schwache Form:\n",
    "$$\n",
    "\\begin{align*}\n",
    " EI_y \\int_L \\delta w'' w'' \\text{ dx}  & = EI_y \\int_0^1   \\frac{\\text{d}^2 N_I}{\\text{dx dx}} \\delta \\hat{w}_I \\frac{\\text{d}^2 N_J}{\\text{dx dx}} \\hat{w}_J \\ell_e \\text{ d} \\xi  \\\\\n",
    " & = \\delta \\hat{w}_I \\frac{EI_y}{\\ell_e^3} \\int_0^1   \\textcolor{red}{N_I''N_J''}    \\text{ d} \\xi \\hat{w}_J \\\\\n",
    " & =\\delta \\hat{w}_I \\boldsymbol{K}_{IJ} \\hat{w}_J\n",
    "\\end{align*}\n",
    "$$"
   ]
  },
  {
   "cell_type": "code",
   "execution_count": null,
   "id": "32225984",
   "metadata": {
    "editable": true,
    "slideshow": {
     "slide_type": ""
    }
   },
   "outputs": [],
   "source": [
    "dNdxidxi = sp.diff(N,xi,2)\n",
    "dNdxidxi"
   ]
  },
  {
   "cell_type": "code",
   "execution_count": null,
   "id": "966f9f4e",
   "metadata": {
    "editable": true,
    "slideshow": {
     "slide_type": ""
    }
   },
   "outputs": [],
   "source": [
    "dNdxidxidxi = sp.diff(N,xi,3)\n",
    "dNdxidxidxi"
   ]
  },
  {
   "cell_type": "markdown",
   "id": "dcc95606",
   "metadata": {
    "editable": true,
    "slideshow": {
     "slide_type": "slide"
    }
   },
   "source": [
    "### Bildung des Integranten\n",
    "\n",
    "Siehe schwache Form:\n",
    "$$\n",
    "\\begin{align*}\n",
    " EI_y \\int_L \\delta w'' w'' \\text{ dx}  & = EI_y \\int_0^1   \\frac{\\text{d}^2 N_I}{\\text{dx dx}} \\delta \\hat{w}_I \\frac{\\text{d}^2 N_J}{\\text{dx dx}} \\hat{w}_J \\ell_e \\text{ d} \\xi  \\\\\n",
    " & = \\delta \\hat{w}_I \\frac{EI_y}{\\ell_e^3} \\int_0^1 \\textcolor{red}   {N_I''N_J''    }\\text{ d} \\xi \\hat{w}_J \\\\\n",
    " & =\\delta \\hat{w}_I \\boldsymbol{K}_{IJ} \\hat{w}_J\n",
    "\\end{align*}\n",
    "$$"
   ]
  },
  {
   "cell_type": "code",
   "execution_count": null,
   "id": "bed38f1c",
   "metadata": {
    "editable": true,
    "slideshow": {
     "slide_type": ""
    }
   },
   "outputs": [],
   "source": [
    "integrant = dNdxidxi*dNdxidxi.T\n",
    "integrant"
   ]
  },
  {
   "cell_type": "markdown",
   "id": "10f1b33c",
   "metadata": {
    "editable": true,
    "slideshow": {
     "slide_type": "slide"
    }
   },
   "source": [
    "### Integration\n",
    "\n",
    "Siehe schwache Form:\n",
    "$$\n",
    "\\begin{align*}\n",
    " EI_y \\int_L \\delta w'' w'' \\text{ dx}  & = EI_y \\int_0^1   \\frac{\\text{d}^2 N_I}{\\text{dx dx}} \\delta \\hat{w}_I \\frac{\\text{d}^2 N_J}{\\text{dx dx}} \\hat{w}_J \\ell_e \\text{ d} \\xi  \\\\\n",
    " & = \\delta \\hat{w}_I \\textcolor{red}   {\\frac{EI_y}{\\ell_e^3} \\int_0^1 N_I''N_J''    \\text{ d} \\xi} \\hat{w}_J \\\\\n",
    " & =\\delta \\hat{w}_I \\boldsymbol{K}_{IJ} \\hat{w}_J\n",
    "\\end{align*}\n",
    "$$"
   ]
  },
  {
   "cell_type": "code",
   "execution_count": null,
   "id": "03c19f2f",
   "metadata": {
    "editable": true,
    "slideshow": {
     "slide_type": ""
    }
   },
   "outputs": [],
   "source": [
    "EI = sp.symbols('EI')\n",
    "Kmat = EI/ell**3 * sp.integrate(integrant,(xi,0,1))\n",
    "Kmat"
   ]
  },
  {
   "cell_type": "markdown",
   "id": "1c73f63e",
   "metadata": {
    "editable": true,
    "slideshow": {
     "slide_type": "slide"
    }
   },
   "source": [
    "## Berechnung der Streckenlast - zweiter Term der schwachen Form\n",
    "\n",
    "Die Streckenlast $q(x)$ hat im Element $e$ im Allgemeinen einen beliebigen Verlauf. Um die Streckenlast zu diskretisieren wird angenommen, dass die Streckenlast im Element linear veränderlich ist. Es wird also der folgende Ansatz gemacht:\n",
    "\n",
    "$$\n",
    "q_h(\\xi)  = (1-\\xi) \\hat{q}_1 + \\xi \\hat{q}_2 = \\begin{pmatrix} 1-\\xi & \\xi \\end{pmatrix} \\begin{pmatrix} \\hat{q}_1 \\\\ \\hat{q}_2 \\end{pmatrix} \n",
    "$$\n",
    "\n",
    "Dies wird jetzt in die schwache Form eingesetzt:\n",
    "\n",
    "$$\n",
    "\\begin{align*}\n",
    "\\int_L  \\delta w q(x) \\text{ dx} & = \\int_L N_I(\\xi) \\delta \\hat{w}_I q_h(\\xi) \\text{ dx} \\\\\n",
    "& = \\delta \\hat{w}_I \\, \\int_0^1 \\begin{pmatrix}\n",
    " N_1 \\\\\n",
    " N_2\\\\\n",
    " N_3 \\\\ \n",
    " N_4  \\end{pmatrix}  \\begin{pmatrix} 1-\\xi & \\xi \\end{pmatrix} \\begin{pmatrix} \\hat{q}_1 \\\\ \\hat{q}_2 \\end{pmatrix}  \\ell_e \\text{ d} \\xi \\\\\n",
    " & = \\delta \\hat{w}_I \\boldsymbol{F}_Q \\\\\n",
    "\\end{align*} \n",
    "$$\n",
    "\n",
    "Den Vektor der Streckenlasten $\\boldsymbol{F}_Q$ berechnen wir nun interaktiv."
   ]
  },
  {
   "cell_type": "markdown",
   "id": "f63e3fbf",
   "metadata": {
    "editable": true,
    "slideshow": {
     "slide_type": "slide"
    }
   },
   "source": [
    "### Ansatz für die Streckenlast"
   ]
  },
  {
   "cell_type": "code",
   "execution_count": null,
   "id": "c1efb320",
   "metadata": {},
   "outputs": [],
   "source": [
    "q1,q2 = sp.symbols('q1 q2')\n",
    "qh = sp.Matrix([q1,q2])\n",
    "Nq1 = 1-xi\n",
    "Nq2 = xi\n",
    "Nq = sp.Matrix([Nq1, Nq2]).T\n",
    "Nq*qh"
   ]
  },
  {
   "cell_type": "markdown",
   "id": "7d9c9b53",
   "metadata": {
    "editable": true,
    "slideshow": {
     "slide_type": "slide"
    }
   },
   "source": [
    "### Bildung des Integranten\n",
    "\n",
    "$$\n",
    "\\begin{align*}\n",
    "\\int_L  \\delta w q(x) \\text{ dx} & = \\int_L N_I(\\xi) \\delta \\hat{w}_I q_h(\\xi) \\text{ dx} \\\\\n",
    "& = \\delta \\hat{w}_I \\, \\int_0^1 \\textcolor{red}{\\begin{pmatrix}\n",
    " N_1 \\\\\n",
    " N_2\\\\\n",
    " N_3 \\\\ \n",
    " N_4  \\end{pmatrix}  \\begin{pmatrix} 1-\\xi & \\xi \\end{pmatrix} \\begin{pmatrix} \\hat{q}_1 \\\\ \\hat{q}_2 \\end{pmatrix}  \\ell_e }\\text{ d} \\xi \\\\\n",
    " & = \\delta \\hat{w}_I \\boldsymbol{F}_Q \\\\\n",
    "\\end{align*} \n",
    "$$"
   ]
  },
  {
   "cell_type": "code",
   "execution_count": null,
   "id": "dc249f10",
   "metadata": {
    "editable": true,
    "slideshow": {
     "slide_type": ""
    }
   },
   "outputs": [],
   "source": [
    "integrantq = N*Nq*qh*ell\n",
    "integrantq"
   ]
  },
  {
   "cell_type": "markdown",
   "id": "0de6076c",
   "metadata": {
    "editable": true,
    "slideshow": {
     "slide_type": "slide"
    }
   },
   "source": [
    "### Integrieren der Funktion\n",
    "\n",
    "$$\n",
    "\\begin{align*}\n",
    "\\int_L  \\delta w q(x) \\text{ dx} & = \\int_L N_I(\\xi) \\delta \\hat{w}_I q_h(\\xi) \\text{ dx} \\\\\n",
    "& = \\delta \\hat{w}_I \\, \\textcolor{red}{\\int_0^1 \\begin{pmatrix}\n",
    " N_1 \\\\\n",
    " N_2\\\\\n",
    " N_3 \\\\ \n",
    " N_4  \\end{pmatrix}  \\begin{pmatrix} 1-\\xi & \\xi \\end{pmatrix} \\begin{pmatrix} \\hat{q}_1 \\\\ \\hat{q}_2 \\end{pmatrix}  \\ell_e \\text{ d} \\xi} \\\\\n",
    " & = \\delta \\hat{w}_I \\boldsymbol{F}_Q \\\\\n",
    "\\end{align*} \n",
    "$$"
   ]
  },
  {
   "cell_type": "code",
   "execution_count": null,
   "id": "ee3fd513",
   "metadata": {
    "editable": true,
    "slideshow": {
     "slide_type": ""
    }
   },
   "outputs": [],
   "source": [
    "FQ = sp.integrate(integrantq,(xi,0,1))\n",
    "sp.simplify(FQ)"
   ]
  },
  {
   "cell_type": "markdown",
   "id": "37b90541",
   "metadata": {
    "editable": true,
    "slideshow": {
     "slide_type": "slide"
    }
   },
   "source": [
    "# Beispiel\n",
    "<div style=\"text-align: center;width: 400px;\">\n",
    "    <img src=\"images/Balken_Problem.png\" alt=\"Balken_Problem.png\" style=\"width: 100%;\">\n",
    "</div>\n",
    "\n",
    "\n",
    "Für das dargestellte Beispiel eines statisch bestimmten Balkens mit konstanter Streckenlast lässt sich die Lösung der Verschiebung durch vierfache Integration der Differentialgleichung bestimmen. Die Lösung lautet:\n",
    "\n",
    "$$\n",
    "EI w(x) =\\frac{\\ell^{3} q_{0} x}{24} - \\frac{\\ell q_{0} x^{3}}{12} + \\frac{q_{0} x^{4}}{24}\n",
    "$$\n",
    "\n",
    "Auch die Schnittgrößen können analytisch einfach bestimmt werden:\n",
    "\n",
    "$$\n",
    "\\begin{align*}\n",
    "EI w'' & =-M(x) =  \\frac{q_{0} x \\left(\\ell - x\\right)}{2} \\\\\n",
    "EI w'''' &= -Q(x) = q_{0} \\left(\\frac{\\ell}{2} - x\\right)\n",
    "\\end{align*}\n",
    "$$"
   ]
  },
  {
   "cell_type": "code",
   "execution_count": null,
   "id": "fcd4ec01",
   "metadata": {
    "editable": true,
    "slideshow": {
     "slide_type": "slide"
    }
   },
   "outputs": [],
   "source": [
    "import sympy as sp\n",
    "from sympy import Rational\n",
    "from sympy import Eq\n",
    "from sympy.plotting import plot, PlotGrid\n",
    "\n",
    "\n",
    "x,EI,ell,q0,C_1,C_2,C_3,C_4 = sp.symbols('x,EI,ell,q0,C_1,C_2,C_3,C_4')\n",
    "\n",
    "# Biegelinie\n",
    "w = 1/EI*(Rational(1,24)*q0*x**4 +Rational(1,6)*C_1*x**3+Rational(1,2)*C_2*x**2+C_3*x+C_4)\n",
    "\n",
    "# Bestimmung der Integrationskonstanten\n",
    "eq1 = Eq(w.subs(x,0),0)\n",
    "eq2 = Eq(w.subs(x,ell),0)\n",
    "eq3 = Eq(-w.diff(x,2).subs(x,0),0)\n",
    "eq4 = Eq(-w.diff(x,2).subs(x,ell),0)\n",
    "solution = sp.solve((eq1,eq2,eq3,eq4),(C_1,C_2,C_3,C_4))\n",
    "wfun = w.subs(solution)\n",
    "Mfun = -wfun.diff(x,2)\n",
    "Qfun = -wfun.diff(x,3)\n",
    "\n",
    "# Plot der Biegelinie und Schnittgrößen\n",
    "wp = w.subs(solution).subs({\"ell\":1,\"q0\":1,\"EI\":1})\n",
    "M = -wp.diff(x,2)\n",
    "Q = -wp.diff(x,3)\n",
    "\n",
    "p1= plot(wp,(x,0,1),title=r'Durchbiegung $\\frac{EI}{q_0} w$',show=False,xlabel=r'$\\frac{x}{\\ell}$',ylabel=r'$\\frac{EI}{q_0} w$',line_color='black')\n",
    "p2= plot(M,(x,0,1),title=r'Biegemoment $\\frac{1}{q_0} M$',show=False,xlabel=r'$\\frac{x}{\\ell}$',ylabel=r'$\\frac{1}{q_0}M$',line_color='red')\n",
    "p3= plot(Q,(x,0,1),title=r'Querkraft $\\frac{1}{q_0}Q$',show=False,xlabel=r'$\\frac{x}{\\ell}$',ylabel=r'$\\frac{1}{q_0}Q$',line_color='blue')\n",
    "\n",
    "\n",
    "PlotGrid(1,3,p1,p2,p3,size=(15,5));"
   ]
  },
  {
   "cell_type": "markdown",
   "id": "0f7da99c",
   "metadata": {
    "editable": true,
    "slideshow": {
     "slide_type": "slide"
    }
   },
   "source": [
    "## Lösung mit der FEM"
   ]
  },
  {
   "cell_type": "code",
   "execution_count": null,
   "id": "d912bdad",
   "metadata": {
    "editable": true,
    "slideshow": {
     "slide_type": ""
    }
   },
   "outputs": [],
   "source": [
    "import numpy as np\n",
    "class BalkenFEM:\n",
    "\n",
    "    def __init__(self,numnp=2,numel=1):\n",
    "        self.numnp = numnp\n",
    "        self.numel = numel\n",
    "        self.dim = 2\n",
    "        self.nel = 2\n",
    "        self.numdof = self.numnp * self.dim\n",
    "        self.elements = np.zeros((self.numel,2),dtype=int)\n",
    "        self.eData = []\n",
    "        self.coords = np.zeros((self.numnp,2))\n",
    "        self.dof = np.zeros((self.numnp,self.dim))\n",
    "        self.eqind = np.zeros((self.numnp,self.dim))\n",
    "        self.Kges = np.zeros((self.numdof,self.numdof))\n",
    "        self.Fges = np.zeros((self.numnp,self.dim))\n",
    "        self.qL = np.zeros((self.numnp,1))\n",
    "        self.u = np.zeros((self.numnp,self.dim))\n",
    "        self.neumannBC = None\n",
    "        self.dirichletBC = None\n",
    "        self.Kuu = self.Kud = self.Kdu = self.Kdd = None\n",
    "\n",
    "    def setNodalCoords(self,coords):\n",
    "        self.coords[:,:] = coords[:,:]\n",
    "    \n",
    "    def setElements(self,elements):\n",
    "        for i in range(self.numel):\n",
    "            for j in range(self.nel):\n",
    "                self.elements[i,j] = int(elements[i,j])\n",
    "                \n",
    "\n",
    "    def setElementData(self,youngsmoduli,sma):\n",
    "        for i in range(self.numel):\n",
    "            self.eData.append({\"sma\":sma[i],\"youngsmodulus\":youngsmoduli[i]})\n",
    "\n",
    "    def setDirichletBoundaryCondition(self,dirichletNodes,dirichletDir,dirichletVal):\n",
    "        eqID = 1\n",
    "        for nodeID in range(self.numnp):\n",
    "            for dirID in range(self.dim):\n",
    "                self.eqind[nodeID,dirID] = eqID\n",
    "                eqID +=1\n",
    "        # Knoten an denen Dirichlet Randbedingungen vorgegeben werden\n",
    "        # müssen im Gleichungssystem nicht berücksichtigt werden.\n",
    "        # Deshalb erhalten sie negative Gleichungsnummern zur Identifikation\n",
    "        \n",
    "        self.dirichletBC = np.zeros((len(dirichletNodes),3))\n",
    "        \n",
    "        for i,(nodeID,dirId,dVal) in enumerate(zip(dirichletNodes,dirichletDir,dirichletVal)):\n",
    "            self.eqind[nodeID,dirId] = -self.eqind[nodeID,dirId]\n",
    "            self.dirichletBC[i,0] = nodeID\n",
    "            self.dirichletBC[i,1] = dirID\n",
    "            self.dirichletBC[i,2] = dVal\n",
    "            self.dof[nodeID,dirId] = dVal\n",
    "    \n",
    "    def setExternalForces(self,neumannNodes,neumannDir,neumannVal):\n",
    "        for nodeID,nDir,nVal in zip(neumannNodes,neumannDir,neumannVal):\n",
    "            self.Fges[nodeID,nDir] = nVal\n",
    "\n",
    "    def setDistributedLoads(self,qloads):\n",
    "        self.qL[:] = qloads[:]\n",
    "\n",
    "    def _getElementDirector(self,elID):\n",
    "        nodeID1 = self.elements[elID,0]\n",
    "        nodeID2 = self.elements[elID,1]\n",
    "        director = self.coords[nodeID2,:] - self.coords[nodeID1,:]\n",
    "        return director\n",
    "\n",
    "    def _getElementstiffness_(self,elID):\n",
    "        director = self._getElementDirector(elID) \n",
    "        le = np.linalg.norm(director)\n",
    "        Ke = self.eData[elID][\"youngsmodulus\"]*self.eData[elID][\"sma\"]/(le**3) * np.ones((4,4))\n",
    "        Ke[0,0] *= 12\n",
    "        Ke[0,1] *= 6\n",
    "        Ke[0,2] *= -12\n",
    "        Ke[0,3] *= 6\n",
    "\n",
    "        Ke[1,0] *= 6\n",
    "        Ke[1,1] *= 4\n",
    "        Ke[1,2] *= -6\n",
    "        Ke[1,3] *= 2\n",
    "\n",
    "        Ke[2,0] *= -12\n",
    "        Ke[2,1] *= -6\n",
    "        Ke[2,2] *= 12\n",
    "        Ke[2,3] *= -6\n",
    "\n",
    "        Ke[3,0] *= 6\n",
    "        Ke[3,1] *= 2\n",
    "        Ke[3,2] *= -6\n",
    "        Ke[3,3] *= 4\n",
    "\n",
    "        Fq =  np.zeros((4,1))\n",
    "        node1 = self.elements[elID,0]\n",
    "        node2 = self.elements[elID,1]\n",
    "        q1 = self.qL[node1]\n",
    "        q2 = self.qL[node2]\n",
    "        \n",
    "        Fq[0] = le/20 * (7*q1+3*q2)\n",
    "        Fq[1] = le * (q1/20+q2/30)\n",
    "        Fq[2] = le/20 * (3*q1+7*q2)\n",
    "        Fq[3] = le * (-q1/30-q2/20)\n",
    "        \n",
    "        return Ke,Fq\n",
    "\n",
    "    def secondDerivative(self,xi):\n",
    "        return np.array([6*(2*xi-1),2*(3*xi-2),6*(1-2*xi),2*(3*xi-1) ])\n",
    "\n",
    "    def thirdDerivative(self,xi):\n",
    "        return np.array([6*(2),2*(3),6*(-2),2*(3) ])\n",
    "\n",
    "    def computeMoment(self,n=10):\n",
    "        X = np.zeros(n*self.numel)\n",
    "        Mges = np.zeros(n*self.numel)\n",
    "        \n",
    "        for elID in range(self.numel):\n",
    "            director = self._getElementDirector(elID) \n",
    "            le = np.linalg.norm(director)\n",
    "            node1 = self.elements[elID,0]\n",
    "            node2 =self.elements[elID,1]\n",
    "            x1 = self.coords[node1,0]\n",
    "            x2 = self.coords[node2,0]\n",
    "            X[elID*n:(elID+1)*n] = xlin =  np.linspace(x1,x2,n)\n",
    "            xilin = np.linspace(0,1,n)\n",
    "            dofe = np.array([self.dof[node1,0],self.dof[node1,1],self.dof[node2,0],self.dof[node2,1]])\n",
    "            for i,xi in enumerate(xilin):\n",
    "                B=1.0/(le**2) * self.secondDerivative(xi)\n",
    "                # M = self.eData[elID][\"youngsmodulus\"]*self.eData[elID][\"sma\"] * B @ dofe.T\n",
    "                M = B @ dofe.T\n",
    "                Mges[elID*n+i] = -M\n",
    "        return X,Mges\n",
    "\n",
    "    def computeQuerkraft(self,n=10):\n",
    "        X = np.zeros(n*self.numel)\n",
    "        Qges = np.zeros(n*self.numel)\n",
    "        \n",
    "        for elID in range(self.numel):\n",
    "            director = self._getElementDirector(elID) \n",
    "            le = np.linalg.norm(director)\n",
    "            node1 = self.elements[elID,0]\n",
    "            node2 =self.elements[elID,1]\n",
    "            x1 = self.coords[node1,0]\n",
    "            x2 = self.coords[node2,0]\n",
    "            X[elID*n:(elID+1)*n] = xlin =  np.linspace(x1,x2,n)\n",
    "            xilin = np.linspace(0,1,n)\n",
    "            dofe = np.array([self.dof[node1,0],self.dof[node1,1],self.dof[node2,0],self.dof[node2,1]])\n",
    "            for i,xi in enumerate(xilin):\n",
    "                B=1.0/(le**3) * self.thirdDerivative(xi)\n",
    "                # M = self.eData[elID][\"youngsmodulus\"]*self.eData[elID][\"sma\"] * B @ dofe.T\n",
    "                Q = B @ dofe.T\n",
    "                Qges[elID*n+i] = -Q\n",
    "        return X,Qges\n",
    "\n",
    "    def getDeflection(self,x):\n",
    "        for elID in range(self.numel):\n",
    "            node1 = self.elements[elID,0]\n",
    "            node2 =self.elements[elID,1]\n",
    "            x1 = self.coords[node1,0]\n",
    "            x2 = self.coords[node2,0]\n",
    "\n",
    "            if (x-x1 > -1.e-12) and (x-x2 < 0.0 ):\n",
    "                director = self._getElementDirector(elID) \n",
    "                le = np.linalg.norm(director)\n",
    "                dofe = np.array([self.dof[node1,0],self.dof[node1,1],self.dof[node2,0],self.dof[node2,1]])\n",
    "                xi = (x-x1)/(x2-x1)\n",
    "                N = np.array([2*xi**3 - 3*xi**2 + 1, (xi**3 - 2*xi**2 + xi), -2*xi**3 + 3*xi**2, (xi**3 - xi**2)])\n",
    "                return N @ dofe.T\n",
    "\n",
    "    def assembleGlobalMatrix2D(self):\n",
    "        for elID in range(self.numel):\n",
    "            Ke,Fq = self._getElementstiffness_(elID)\n",
    "            for nodeI in range(self.nel):\n",
    "                globalNodeI = self.elements[elID,nodeI]\n",
    "                for dimI in range(self.dim):\n",
    "                    rowID = int(np.sign(self.eqind[globalNodeI,dimI])*self.eqind[globalNodeI,dimI]-1)\n",
    "                    self.Fges[globalNodeI,dimI] += Fq[(nodeI*self.dim)+dimI,0]\n",
    "                    for nodeJ in range(self.nel):\n",
    "                        globalNodeJ = self.elements[elID,nodeJ]\n",
    "                        for dimJ in range(self.dim):\n",
    "                            colID = int(np.sign(self.eqind[globalNodeJ,dimJ])*self.eqind[globalNodeJ,dimJ]-1)\n",
    "                            self.Kges[rowID,colID] += Ke[(nodeI*self.dim)+dimI,(nodeJ*self.dim)+dimJ]\n",
    "\n",
    "    def solveSystem(self):\n",
    "        # Erzeuge Hiflsmatrizen um die Freiheitsgrade zu sortieren\n",
    "        numcdof = self.dirichletBC.shape[0]\n",
    "        numfdof = self.numdof - numcdof\n",
    "        self.Kuu = np.zeros((numfdof,numfdof)) \n",
    "        self.Kud = np.zeros((numfdof,numcdof))\n",
    "        self.Kdd = np.zeros((numcdof,numcdof))\n",
    "        Fu = np.zeros((numfdof,1))\n",
    "        Fc = np.zeros((numcdof,1))\n",
    "        uc = np.zeros((numcdof,1))\n",
    "        eqf_inv = np.zeros((numfdof,2),dtype=int)\n",
    "        eqc_inv = np.zeros((numcdof,2),dtype=int)\n",
    "        Fvec = np.zeros((2*self.numnp,1))\n",
    "\n",
    "        # Sortiere Freiheitsgrade\n",
    "        icon  = -1\n",
    "        ifree = -1\n",
    "        iIsFree = False\n",
    "        for nodeI in range(self.numnp):\n",
    "            for dirI in range(self.dim):\n",
    "                jcon  = -1\n",
    "                jfree = -1\n",
    "                jIsFree = False\n",
    "                if self.eqind[nodeI,dirI]>=0:\n",
    "                    iIsFree = True\n",
    "                    ifree+=1\n",
    "                else:\n",
    "                    iIsFree = False\n",
    "                    icon +=1\n",
    "                eqI = int(np.sign(self.eqind[nodeI,dirI])*self.eqind[nodeI,dirI]-1)\n",
    "                Fvec[eqI] = self.Fges[nodeI,dirI]\n",
    "                if iIsFree:\n",
    "                    eqf_inv[ifree,0] = nodeI\n",
    "                    eqf_inv[ifree,1] = dirI\n",
    "                    Fu[ifree]=self.Fges[nodeI,dirI]\n",
    "                else:\n",
    "                    eqc_inv[icon,0] = nodeI\n",
    "                    eqc_inv[icon,1] = dirI\n",
    "                    Fc[icon] = self.Fges[nodeI,dirI]\n",
    "                    uc[icon] = self.dof[nodeI,dirI]\n",
    "                for nodeJ in range(self.numnp):\n",
    "                    for dirJ in range(self.dim):\n",
    "                        if self.eqind[nodeJ,dirJ] >= 0 :\n",
    "                            jIsFree = True\n",
    "                            jfree +=1\n",
    "                        else:\n",
    "                            jIsFree = False\n",
    "                            jcon += 1 \n",
    "                        \n",
    "                        eqJ = int(np.sign(self.eqind[nodeJ,dirJ])*self.eqind[nodeJ,dirJ]-1)\n",
    "                        if iIsFree and jIsFree:\n",
    "                            self.Kuu[ifree,jfree] = self.Kges[eqI,eqJ]\n",
    "                        if iIsFree and not jIsFree:\n",
    "                            self.Kud[ifree,jcon] = self.Kges[eqI,eqJ]\n",
    "                        if not iIsFree and not jIsFree:\n",
    "                            self.Kdd[icon,jcon] = self.Kges[eqI,eqJ]\n",
    "        # display(\"Fvec: \",Fvec)\n",
    "        # Löse Gleichungssystem\n",
    "        # K_uu*u = F-K_ud*u_d\n",
    "        rhs = Fu-self.Kud @ uc\n",
    "        # display(\"RHS: \",rhs)\n",
    "        # display(\"Kuu:\",self.Kuu)\n",
    "        u = np.linalg.solve(self.Kuu,rhs)\n",
    "        ieq = 0\n",
    "        # Kopiere zu globalen Freiheitsgraden\n",
    "        for nodeI in range(numfdof):\n",
    "            self.dof[eqf_inv[nodeI,0],eqf_inv[nodeI,1]] = u[ieq,0]\n",
    "            ieq += 1\n",
    "        # Bestimme Reaktionskräfte\n",
    "        # R = K_du * u + K_dd*u_c - F_c\n",
    "        rF = self.Kud.T@u+self.Kdd@uc -Fc\n",
    "        # Kopiere zu den globalen Kräften\n",
    "        ieq = 0\n",
    "        for nodeI in range(numcdof):\n",
    "            self.Fges[eqc_inv[nodeI,0],eqc_inv[nodeI,1]] = rF[ieq,0]\n",
    "            ieq += 1 \n",
    "\n",
    "    "
   ]
  },
  {
   "cell_type": "markdown",
   "id": "30dafd61",
   "metadata": {
    "editable": true,
    "slideshow": {
     "slide_type": "slide"
    }
   },
   "source": [
    "## Set Up Problem"
   ]
  },
  {
   "cell_type": "code",
   "execution_count": null,
   "id": "b573c2b8",
   "metadata": {
    "editable": true,
    "slideshow": {
     "slide_type": ""
    }
   },
   "outputs": [],
   "source": [
    "numnp = 3 # Anzahl der Knoten im System\n",
    "numel = numnp -1 # Anzahl der Elemente im System\n",
    "ell = 8000 # Länge des Balkens in mm\n",
    "\n",
    "# Erzeugen des FE-Objektes\n",
    "Lastfall = BalkenFEM(numnp=numnp,numel=numel)\n",
    "\n",
    "# Definiere die Koordinaten der beiden Randknoten\n",
    "X1 = np.array([0.0,0.0]) #mm\n",
    "X2 = np.array([ell,0.0]) #mm\n",
    "\n",
    "\n",
    "# Generate interpolation points\n",
    "t = np.linspace(0, 1, numnp)\n",
    "X = X1 + t[:, np.newaxis] * (X2 - X1)\n",
    "# print(f\"Coordinates of the nodes: \\n{X}\") \n",
    "\n",
    "Lastfall.setNodalCoords(X)\n",
    "\n",
    "# Generate Elements\n",
    "IX = np.column_stack((np.arange(0, numnp-1), np.arange(1, numnp)))\n",
    "# print(f\"Connectivity table: \\n{IX}\")\n",
    "\n",
    "Lastfall.setElements(IX)\n",
    "\n",
    "# Material properties and cross section\n",
    "Emod = 210000 # MPa\n",
    "sma = 77.67*10**4 # mm^4\n",
    "Ilist = [sma for i in range(numel)]\n",
    "Elist = [Emod for i in range(numel)]\n",
    "\n",
    "Lastfall.setElementData(Elist, Ilist)"
   ]
  },
  {
   "cell_type": "markdown",
   "id": "f06600cb",
   "metadata": {
    "editable": true,
    "slideshow": {
     "slide_type": "slide"
    }
   },
   "source": [
    "## Definiere Randbedingungen"
   ]
  },
  {
   "cell_type": "code",
   "execution_count": null,
   "id": "720fee11",
   "metadata": {
    "editable": true,
    "slideshow": {
     "slide_type": ""
    }
   },
   "outputs": [],
   "source": [
    "# Dirichlet Randbedingungen (Verschiebung)\n",
    "dnodes = [0, numnp-1]\n",
    "ddir = [0,0]\n",
    "dval = [0,0]\n",
    "\n",
    "\n",
    "Lastfall.setDirichletBoundaryCondition(dnodes,ddir,dval)\n",
    "\n",
    "# Neumann Randbedingungen (Kraft)\n",
    "fnodes = [i for i in range(numnp)] # forces\n",
    "mnodes = [i for i in range(numnp)] # moments\n",
    "fdir1 = [0 for i in range(numnp)] \n",
    "mdir2 = [1 for i in range(numnp)] \n",
    "fval1 = [0 for i in range(numnp)]\n",
    "mval2 = [0 for i in range(numnp)]\n",
    "q0 = -10 # N/mm\n",
    "# fval1[2] = q0*ell\n",
    "\n",
    "Lastfall.setExternalForces(fnodes+mnodes,fdir1+mdir2,fval1+mval2)\n",
    "\n",
    "# Verteilte Lasten\n",
    "\n",
    "q=q0*np.ones((numnp,1))\n",
    "Lastfall.setDistributedLoads(q)"
   ]
  },
  {
   "cell_type": "markdown",
   "id": "0e57f7f4",
   "metadata": {
    "editable": true,
    "slideshow": {
     "slide_type": "slide"
    }
   },
   "source": [
    "## Plot Problem"
   ]
  },
  {
   "cell_type": "code",
   "execution_count": null,
   "id": "f9d8c11c",
   "metadata": {
    "editable": true,
    "slideshow": {
     "slide_type": ""
    }
   },
   "outputs": [],
   "source": [
    "import matplotlib.pyplot as plt\n",
    "wanalytisch = sp.lambdify(x,wfun.subs({\"EI\":Emod*sma,\"q0\":q0,\"ell\":ell}),\"numpy\")\n",
    "\n",
    "\n",
    "def plotBalken(X,q,fval1,u=None):\n",
    "    fix,ax = plt.subplots(figsize=(10,5))\n",
    "    if u is not None:\n",
    "        ax.plot(X[:,0],X[:,1]+u,c='b')\n",
    "        xline = np.linspace(0,ell,100)\n",
    "        ax.plot(xline,wanalytisch(xline),'b--')\n",
    "        ax.legend([\"w - FEM\",\"w - analytisch\"])\n",
    "    ax.scatter(X[:,0],X[:,1],c='k',s=100)\n",
    "    ax.plot(X[:,0],X[:,1],c='k')\n",
    "    ax.quiver(X[:,0], X[:,1],  [0 for i in range(numnp)],q,color='red')\n",
    "    ax.quiver(X[:,0], X[:,1],  [0 for i in range(numnp)],fval1,color='red')\n",
    "    ax.set_xlabel('x [mm]')\n",
    "    ax.set_ylabel('w [mm]')\n",
    "    ax.set_title('Balken')\n",
    "    ax.grid(True)\n",
    "    \n",
    "    plt.axis('equal')\n",
    "    plt.show()\n",
    "\n",
    "plotBalken(X,q,fval1)"
   ]
  },
  {
   "cell_type": "markdown",
   "id": "9d52ee13",
   "metadata": {
    "editable": true,
    "slideshow": {
     "slide_type": "slide"
    }
   },
   "source": [
    "## Solve Problem"
   ]
  },
  {
   "cell_type": "code",
   "execution_count": null,
   "id": "faf2f22e",
   "metadata": {
    "editable": true,
    "slideshow": {
     "slide_type": ""
    }
   },
   "outputs": [],
   "source": [
    "Lastfall.assembleGlobalMatrix2D()\n",
    "Lastfall.solveSystem()"
   ]
  },
  {
   "cell_type": "code",
   "execution_count": null,
   "id": "e607cc94",
   "metadata": {
    "editable": true,
    "slideshow": {
     "slide_type": ""
    }
   },
   "outputs": [],
   "source": [
    "plotBalken(X,q,fval1,Lastfall.dof[:,0])"
   ]
  },
  {
   "cell_type": "code",
   "execution_count": null,
   "id": "787cbd64",
   "metadata": {
    "editable": true,
    "slideshow": {
     "slide_type": ""
    }
   },
   "outputs": [],
   "source": [
    "wa = wanalytisch(4000)\n",
    "wFEM = Lastfall.getDeflection(4000)\n",
    "error = (wa-wFEM)/wa*100\n",
    "\n",
    "print(f\"Durchbiegung analytisch: {wa}\")\n",
    "print(f\"Durchbiegung FEM: {wFEM}\")\n",
    "print(f\"Fehler: {error}%\")"
   ]
  },
  {
   "cell_type": "markdown",
   "id": "a70908ef",
   "metadata": {
    "editable": true,
    "slideshow": {
     "slide_type": "subslide"
    }
   },
   "source": [
    "### Bestimmung der Schnittlasten"
   ]
  },
  {
   "cell_type": "markdown",
   "id": "a5c83f00",
   "metadata": {
    "editable": true,
    "slideshow": {
     "slide_type": "subslide"
    }
   },
   "source": [
    "### Schnittmoment"
   ]
  },
  {
   "cell_type": "code",
   "execution_count": null,
   "id": "a284fb4f",
   "metadata": {
    "editable": true,
    "slideshow": {
     "slide_type": ""
    }
   },
   "outputs": [],
   "source": [
    "xm,M = Lastfall.computeMoment(n=10)\n",
    "Manalytisch  = sp.lambdify(x,Mfun.subs({\"EI\":Emod*sma,\"q0\":q0,\"ell\":ell}),\"numpy\")\n",
    "\n",
    "\n",
    "def plotMoment(x,M):\n",
    "    fix,ax = plt.subplots(figsize=(10,5))\n",
    "    ax.plot(x,M,'r')\n",
    "    ax.plot(x,Manalytisch(x),'r--')\n",
    "    ax.legend([\"M - FEM\",\"M - analytisch\"])\n",
    "    ax.grid(True)\n",
    "\n",
    "\n",
    "plotMoment(xm,M)"
   ]
  },
  {
   "cell_type": "code",
   "execution_count": null,
   "id": "9a9c723d",
   "metadata": {
    "editable": true,
    "slideshow": {
     "slide_type": ""
    }
   },
   "outputs": [],
   "source": [
    "Ma = Manalytisch(4000)\n",
    "MFEM = np.min(M)\n",
    "error = (Ma-MFEM)/Ma*100\n",
    "\n",
    "print(f\"Biegemoment analytisch: {Ma}\")\n",
    "print(f\"Biegemoment FEM: {MFEM}\")\n",
    "print(f\"Fehler: {error}%\")"
   ]
  },
  {
   "cell_type": "markdown",
   "id": "fd59856f",
   "metadata": {
    "editable": true,
    "slideshow": {
     "slide_type": "subslide"
    }
   },
   "source": [
    "### Schnittgröße: Querkraft"
   ]
  },
  {
   "cell_type": "code",
   "execution_count": null,
   "id": "fda8f6ea",
   "metadata": {
    "editable": true,
    "slideshow": {
     "slide_type": ""
    }
   },
   "outputs": [],
   "source": [
    "xm,Q = Lastfall.computeQuerkraft(n=10)\n",
    "Qanalytisch  = sp.lambdify(x,Qfun.subs({\"EI\":Emod*sma,\"q0\":q0,\"ell\":ell}),\"numpy\")\n",
    "\n",
    "\n",
    "def plotQuerkraft(x,Q):\n",
    "    fix,ax = plt.subplots(figsize=(10,5))\n",
    "    ax.plot(x,Q,'b')\n",
    "    ax.plot(x,Qanalytisch(x),'b--')\n",
    "    ax.legend([\"Q - FEM\",\"Q - analytisch\"])\n",
    "    ax.grid(True)\n",
    "    \n",
    "plotQuerkraft(xm,Q)"
   ]
  },
  {
   "cell_type": "code",
   "execution_count": null,
   "id": "790d6869",
   "metadata": {
    "editable": true,
    "slideshow": {
     "slide_type": ""
    }
   },
   "outputs": [],
   "source": [
    "Qa = Qanalytisch(0)\n",
    "QFEM = np.min(Q)\n",
    "error = (Qa-QFEM)/Qa*100\n",
    "\n",
    "print(f\"Querkraft analytisch: {Qa}\")\n",
    "print(f\"Querkraft FEM: {QFEM}\")\n",
    "print(f\"Fehler: {error}%\")"
   ]
  },
  {
   "cell_type": "markdown",
   "id": "fcd00e25",
   "metadata": {
    "editable": true,
    "slideshow": {
     "slide_type": "slide"
    }
   },
   "source": [
    "## Konvergenzstudie"
   ]
  },
  {
   "cell_type": "code",
   "execution_count": null,
   "id": "a5bcc4ab",
   "metadata": {
    "editable": true,
    "slideshow": {
     "slide_type": ""
    }
   },
   "outputs": [],
   "source": [
    "def setUpProblem(numnp):\n",
    "    numel = numnp -1\n",
    "    ell = 8000\n",
    "\n",
    "    Lastfall = BalkenFEM(numnp=numnp,numel=numel)\n",
    "\n",
    "    X1 = np.array([0.0,0.0])     #mm\n",
    "    X2 = np.array([ell,0.0]) #mm\n",
    "\n",
    "\n",
    "    # Generate interpolation points\n",
    "    t = np.linspace(0, 1, numnp)\n",
    "    X = X1 + t[:, np.newaxis] * (X2 - X1)\n",
    "    # print(f\"Coordinates of the nodes: \\n{X}\") \n",
    "\n",
    "    Lastfall.setNodalCoords(X)\n",
    "\n",
    "    # Generate Elements\n",
    "    IX = np.column_stack((np.arange(0, numnp-1), np.arange(1, numnp)))\n",
    "    # print(f\"Connectivity table: \\n{IX}\")\n",
    "\n",
    "    Lastfall.setElements(IX)\n",
    "\n",
    "    # Material properties and cross section\n",
    "    Emod = 210000 # MPa\n",
    "    sma = 77.67*10**4 # mm^4\n",
    "    Ilist = [sma for i in range(numel)]\n",
    "    Elist = [Emod for i in range(numel)]\n",
    "\n",
    "    Lastfall.setElementData(Elist, Ilist)\n",
    "\n",
    "    # Dirichlet Randbedingungen (Verschiebung)\n",
    "    dnodes = [0, numnp-1]\n",
    "    ddir = [0,0]\n",
    "    dval = [0,0]\n",
    "\n",
    "\n",
    "    \n",
    "    Lastfall.setDirichletBoundaryCondition(dnodes,ddir,dval)\n",
    "\n",
    "    # Neumann Randbedingungen (Kraft)\n",
    "    fnodes = [i for i in range(numnp)] # forces\n",
    "    mnodes = [i for i in range(numnp)] # moments\n",
    "    fdir1 = [0 for i in range(numnp)] \n",
    "    mdir2 = [1 for i in range(numnp)] \n",
    "    fval1 = [0 for i in range(numnp)]\n",
    "    mval2 = [0 for i in range(numnp)]\n",
    "    q0 = -10 # N/mm\n",
    "    # fval1[2] = q0*ell\n",
    "\n",
    "    Lastfall.setExternalForces(fnodes+mnodes,fdir1+mdir2,fval1+mval2)\n",
    "\n",
    "    # Verteilte Lasten\n",
    "\n",
    "    q=q0*np.ones((numnp,1))\n",
    "    Lastfall.setDistributedLoads(q)\n",
    "\n",
    "\n",
    "    Lastfall.assembleGlobalMatrix2D()\n",
    "    Lastfall.solveSystem()\n",
    "\n",
    "    xm,Q = Lastfall.computeQuerkraft(n=3)\n",
    "    xm,M = Lastfall.computeMoment(n=3)\n",
    "\n",
    "\n",
    "    return np.min(Q),np.min(M),Lastfall"
   ]
  },
  {
   "cell_type": "code",
   "execution_count": null,
   "id": "2dd74c77",
   "metadata": {
    "editable": true,
    "slideshow": {
     "slide_type": "subslide"
    }
   },
   "outputs": [],
   "source": [
    "npoints =  np.linspace(2,202,51)\n",
    "\n",
    "QFEM = np.zeros((51,))\n",
    "MFEM = np.zeros((51,))\n",
    "ErrorM= np.zeros((51,))\n",
    "ErrorQ= np.zeros((51,))\n",
    "\n",
    "for i,p in enumerate(npoints):\n",
    "    \n",
    "    QQ,MM,LC=setUpProblem(int(p))\n",
    "    QFEM[i]=QQ\n",
    "    MFEM[i]=MM\n",
    "    ErrorQ[i] = (Qa-QFEM[i])/Qa*100\n",
    "    ErrorM[i] = (Ma-MFEM[i])/Ma*100"
   ]
  },
  {
   "cell_type": "code",
   "execution_count": null,
   "id": "04e5043c",
   "metadata": {
    "editable": true,
    "slideshow": {
     "slide_type": ""
    }
   },
   "outputs": [],
   "source": [
    "import pandas as pd\n",
    "\n",
    "df = pd.DataFrame({\"M\":MFEM,\"error M\":ErrorM,\"Q\":QFEM,\"error Q\":ErrorQ},index=npoints)\n",
    "\n",
    "df"
   ]
  },
  {
   "cell_type": "code",
   "execution_count": null,
   "id": "58473883",
   "metadata": {
    "editable": true,
    "slideshow": {
     "slide_type": "subslide"
    }
   },
   "outputs": [],
   "source": [
    "fig, ax = plt.subplots(1,2,figsize=(12,5))\n",
    "ax[0].plot(df.index,df[\"M\"])\n",
    "ax[0].set_title(\"Konvergenz Schnittmoment\")\n",
    "ax[0].set_xlabel(\"Anzahl Knoten\")\n",
    "ax[0].set_ylabel(\"M\")\n",
    "ax[0].grid(True)\n",
    "ax[1].plot(df.index,df[\"Q\"])\n",
    "ax[1].set_title(\"Konvergenz SchnittKraft Q\")\n",
    "ax[1].set_xlabel(\"Anzahl Knoten\")\n",
    "ax[1].set_ylabel(\"Q\")\n",
    "ax[1].grid(True)"
   ]
  },
  {
   "cell_type": "code",
   "execution_count": null,
   "id": "d7f75e86",
   "metadata": {
    "editable": true,
    "slideshow": {
     "slide_type": "subslide"
    }
   },
   "outputs": [],
   "source": [
    "fig, ax = plt.subplots(1,2,figsize=(12,5))\n",
    "ax[0].plot(df.index,df[\"error M\"])\n",
    "ax[0].set_title(\"Konvergenz Fehler des Schnittmoments\")\n",
    "ax[0].set_xlabel(\"Anzahl Knoten\")\n",
    "ax[0].set_ylabel(\"error M\")\n",
    "ax[0].set_yscale(\"log\")  # Set y-axis to logarithmic scale\n",
    "ax[0].set_xscale(\"log\")  # Set x-axis to logarithmic scale\n",
    "ax[0].grid(True)\n",
    "ax[1].plot(df.index,df[\"error Q\"])\n",
    "ax[1].set_title(\"Konvergenz Fehler SchnittKraft Q\")\n",
    "ax[1].set_xlabel(\"Anzahl Knoten\")\n",
    "ax[1].set_ylabel(\"error Q\")\n",
    "ax[1].set_yscale(\"log\")  # Set y-axis to logarithmic scale\n",
    "ax[1].set_xscale(\"log\")  # Set x-axis to logarithmic scale\n",
    "ax[0].grid(True)"
   ]
  },
  {
   "cell_type": "markdown",
   "id": "0f4b7257",
   "metadata": {
    "editable": true,
    "slideshow": {
     "slide_type": "slide"
    }
   },
   "source": [
    "## Analyse der Steifigkeitsmatrix"
   ]
  },
  {
   "cell_type": "code",
   "execution_count": null,
   "id": "7f33ca4a",
   "metadata": {
    "editable": true,
    "slideshow": {
     "slide_type": ""
    }
   },
   "outputs": [],
   "source": [
    "matrix = LC.Kges\n",
    "plt.figure(figsize=(6, 6))\n",
    "plt.spy(matrix, markersize=10)  # You can adjust the markersize as needed\n",
    "plt.title('Sparsity Pattern of the Matrix')\n",
    "plt.xlabel('Column Index')\n",
    "plt.ylabel('Row Index')\n",
    "plt.grid()\n",
    "plt.show()"
   ]
  }
 ],
 "metadata": {
  "jupytext": {
   "formats": "md:myst,ipynb"
  },
  "kernelspec": {
   "display_name": "Python 3 (ipykernel)",
   "language": "python",
   "name": "python3"
  },
  "language_info": {
   "codemirror_mode": {
    "name": "ipython",
    "version": 3
   },
   "file_extension": ".py",
   "mimetype": "text/x-python",
   "name": "python",
   "nbconvert_exporter": "python",
   "pygments_lexer": "ipython3",
   "version": "3.10.16"
  }
 },
 "nbformat": 4,
 "nbformat_minor": 5
}
