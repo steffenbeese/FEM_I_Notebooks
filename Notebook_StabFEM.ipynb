{
 "cells": [
  {
   "cell_type": "code",
   "execution_count": null,
   "id": "efdc75d4-b974-4029-8267-fdd515a580b9",
   "metadata": {},
   "outputs": [],
   "source": []
  },
  {
   "cell_type": "markdown",
   "id": "cbc83fbd-7592-428a-b470-bdca2eb4b785",
   "metadata": {},
   "source": [
    "# Der Dehnstab\n",
    "\n",
    "In diesem Notebook wird die FEM-Implementierung für den Dehnstab erläutert und erprobt.\n",
    "\n",
    "<div style=\"text-align: center;width: 400px;\">\n",
    "    <img src=\"images/Stab.png\" alt=\"Stab.png\" style=\"width: 30%;\">\n",
    "</div>\n",
    "\n",
    "Die Differentialgleichung des Dehnstabes lautet:\n",
    "\n",
    "$$\n",
    " {EA} u^{\\prime \\prime} =  - {n(x)} A \\; ,\n",
    "$$\n",
    "\n",
    "Für diese Differentialgleichung haben wir in der Vorlesung die schwache Form hergeleitet:\n",
    "\n",
    "$$\n",
    "\\textcolor{green}{\\int_{0}^{\\ell} \\delta \\epsilon\\cdot E\\epsilon\\, A \\text{ d}x } -\\textcolor{red} {\\int_0^{\\ell} \\delta u \\cdot n A \\text{ d}x } - \\textcolor{blue}{\\delta u(\\ell) \\cdot F} = 0\\; \n",
    "$$\n",
    "\n",
    "Ein Finites Element besteht in dem vorliegenden Beispiel aus 2 Knoten. Sowohl die Knoten, als auch die Elemente werden im Allgemeinen nummeriert, damit man sie eindeutig ansprechen kann. Im Bild sind die Elementnummern in den rechteckigen Kästen neben dem Element eingetragen. Die Knotennummer sind in den Kreisen neben den Knoten dargestellt. Die Knoten sind die Träger der primären Feldvariablen (hier: Verschiebung $u$) und Ziel der Finiten Elemente Berechnung ist die Bestimmung der primären Variablen, auch Freiheitsgrade (English: Degree of freedom **Dof**) an den Knoten. \n",
    "\n",
    "<div style=\"text-align: center;width: 400px;\">\n",
    "    <img src=\"images/Stab_element_02.png\" alt=\"Stabelement.png\" style=\"width: 100%;\">\n",
    "</div>\n",
    "\n",
    "Auf diesen Elementen werden dann einfache Ansatzfunktionen verwendet, welche eine lineare Approximation des Verschiebungsfeldes darstellen:\n",
    "\n",
    "$$\n",
    "\\begin{align}\n",
    " N_1(\\xi) & = (1-\\xi) \\qquad N_2(\\xi)= \\xi  \\\\\n",
    " u_h(\\xi) & = N_1(\\xi) \\hat{u}_1^{(e)}+ N_2(\\xi) \\hat{u}_2^{(e)} \\\\\n",
    " u_h(\\xi) & = \\sum_{I=1}^2 N_I(\\xi) \\hat{u}_I^{(e)}\n",
    " \\end{align}\n",
    "$$"
   ]
  },
  {
   "cell_type": "code",
   "execution_count": null,
   "id": "6d010a5e-cbfd-44f5-951a-9dccbff77b1a",
   "metadata": {},
   "outputs": [],
   "source": [
    "import numpy as np\n",
    "import plotly.graph_objects as go\n",
    "\n",
    "# Define the x values\n",
    "x = np.linspace(0, 1, 100)\n",
    "\n",
    "N1 = 1-x\n",
    "N2 = x\n",
    "\n",
    "# Create the figure\n",
    "fig = go.Figure()\n",
    "\n",
    "# Add traces for each shape function\n",
    "fig.add_trace(go.Scatter(x=x, y=N1, mode='lines', name='N_1'))\n",
    "fig.add_trace(go.Scatter(x=x, y=N2, mode='lines', name='N_2'))\n",
    "\n",
    "fig.update_layout(\n",
    "    xaxis_title=r\"$\\xi$\",\n",
    "    yaxis_title=r'$N(\\xi)$',\n",
    "    legend=dict(x=1.05, y=1),\n",
    "    font=dict(family=\"Serif\", size=15),\n",
    "    template='plotly_white',\n",
    "    xaxis=dict(showgrid=True, gridcolor='grey', gridwidth=0.6, griddash='dash'),\n",
    "    yaxis=dict(showgrid=True, gridcolor='grey', gridwidth=0.6, griddash='dash')\n",
    ")"
   ]
  },
  {
   "cell_type": "markdown",
   "id": "936c562e-f253-4a4c-8c7f-8ebb5b0d9a23",
   "metadata": {},
   "source": [
    "## Die Steifigkeitsmatmatrix des Dehnstabes\n",
    "\n",
    "Im nachfolgenden Python-Code wird die Steifigkeitsmatrix des Dehnstabes berechnet:"
   ]
  },
  {
   "cell_type": "code",
   "execution_count": null,
   "id": "6ffb4cdd-499a-4300-a5ec-a7bb22f26ce9",
   "metadata": {},
   "outputs": [],
   "source": [
    "import sympy as sp\n",
    "xi,ell,E,A = sp.symbols('xi, ell,E,A')\n",
    "\n",
    "# Formfunktionen\n",
    "N1 = 1-xi\n",
    "N2 = xi\n",
    "N = sp.Matrix([N1,N2])\n",
    "\n",
    "# Ableitungen der Formfunktionen\n",
    "dNdxi = sp.diff(N,xi)\n",
    "\n",
    "# Steifigkeitsmatrix\n",
    "Kmat = sp.integrate(dNdxi*dNdxi.T,(xi,0,1))*E*A/ell \n",
    "Kmat"
   ]
  },
  {
   "cell_type": "markdown",
   "id": "2e9d41f0-61e7-4653-beed-a316a43b4ade",
   "metadata": {},
   "source": [
    "# Analytische Lösung der DGL des Dehnstabes\n",
    "\n",
    "Im folgenden wird die analytische Lösung der Differentialgleichung des Dehnstabes berechnet. Dafür wird die Differentialgleichung des Dehnstabes zweimal integriert. Die Integrationskonstanten werden durch die Randbedingungen bestimmt."
   ]
  },
  {
   "cell_type": "code",
   "execution_count": null,
   "id": "e7613f9e-5384-4a4d-b06e-ea3b827268ac",
   "metadata": {},
   "outputs": [],
   "source": [
    "E,A,x,n,F = sp.symbols('E,A,x,n,F')\n",
    "u = sp.Function('u')\n",
    "solution =sp.dsolve( \n",
    "          E*A*u(x).diff(x,2)+n*A,u(x) # DGL\n",
    "          ,ics={ # Randbedingungen\n",
    "              u(0):0, # Verschiebungsrandbedingung\n",
    "              u(x).diff(x).subs({\"x\":ell}):F/E/A # Kraftrandbedingung\n",
    "              }\n",
    "          )\n",
    "ufun=solution.rhs\n",
    "ufun"
   ]
  },
  {
   "cell_type": "markdown",
   "id": "1dc553d7-8ff9-4b8c-905f-5ccad94a6611",
   "metadata": {},
   "source": [
    "Die Schnittgröße $N(x)$ erhält man dann aus:\n",
    "\n",
    "$$\n",
    "\\begin{align*}\n",
    "\\sigma & = E \\epsilon = E \\frac{\\partial u}{\\partial x}  \\\\\n",
    "N(x) & = \\sigma A = E A \\frac{\\partial u}{\\partial x}\n",
    "\\end{align*}\n",
    "$$"
   ]
  },
  {
   "cell_type": "code",
   "execution_count": null,
   "id": "c1a2e8d6-c667-481d-8a43-8b27b314e4d4",
   "metadata": {},
   "outputs": [],
   "source": [
    "Nfun = E*A*solution.rhs.diff(x)\n",
    "Nfun"
   ]
  },
  {
   "cell_type": "markdown",
   "id": "d2295baa-3b27-4f14-a8a3-04b0a2cdc39f",
   "metadata": {},
   "source": [
    "# FEM Implementierung des Dehnstabs\n",
    "\n",
    "Das folgende ist nur ein Ausdruck der FEM Implementierung aus dem Python Modul `StabFEM.py` und dient nur der Veranschaulichung:\n"
   ]
  },
  {
   "cell_type": "code",
   "execution_count": null,
   "id": "2b953bdc-d059-4187-940f-5680626bc985",
   "metadata": {
    "scrolled": true
   },
   "outputs": [],
   "source": [
    "from IPython.display import display, Markdown\n",
    "\n",
    "# Open the Python file and read its content\n",
    "with open('StabFEM.py', 'r') as file:\n",
    "    content = file.read()\n",
    "\n",
    "# Display the content as Markdown\n",
    "display(Markdown(f'```python\\n{content}\\n```'))"
   ]
  },
  {
   "cell_type": "markdown",
   "id": "d11ef262-009e-4dd1-bb72-f29c78ba3371",
   "metadata": {},
   "source": [
    "# Beispiele"
   ]
  },
  {
   "cell_type": "markdown",
   "id": "909b5144-95cb-4226-8263-433589793c5a",
   "metadata": {},
   "source": [
    "## Beispiel 1:\n",
    "\n",
    "<div style=\"display: flex;\">\n",
    "    <div style=\"flex: 50%;\">\n",
    "        <img src=\"images/Stab.png\" alt=\"Stab\" style=\"max-width: 30%;\">\n",
    "    </div>\n",
    "    <div style=\"flex: 50%;\">\n",
    "        <p>Gegebene Größen</p>\n",
    "        <ul>\n",
    "            <li>E = 210 GPa</li>\n",
    "            <li>A = 33.4 cm² (I-Profil - 200 )</li>\n",
    "            <li>l = 4 m </li>\n",
    "            <li>F = 5 kN</li>\n",
    "            <li>n = 0.1 kN/m</li>\n",
    "        </ul>\n",
    "        <p>Gesucht</p>\n",
    "        <ul>\n",
    "           <li>u(x=4m)</li>\n",
    "           <li>N(x=0m)</li>\n",
    "           <li>Spannung an der Stelle x=0m</li>\n",
    "    </div>\n",
    "</div>"
   ]
  },
  {
   "cell_type": "code",
   "execution_count": null,
   "id": "44311f26-66ca-44d9-819d-46ba0edf2f9e",
   "metadata": {},
   "outputs": [],
   "source": [
    "from StabFEM import StabFEM\n",
    "import numpy as np\n",
    "import matplotlib.pyplot as plt\n",
    "\n",
    "###############################################\n",
    "# SetUp des Problems\n",
    "###############################################\n",
    "\n",
    "bsp1 = StabFEM(numnp=2,numel=1)\n",
    "X = np.array([\n",
    "    [0,0],\n",
    "    [4000.0,0]\n",
    "])\n",
    "elements = np.array([\n",
    "    [0,1]\n",
    "])\n",
    "areas = [33.4*10**2]\n",
    "youngsM = [210*10**3]\n",
    "loads = [0.1]\n",
    "\n",
    "# Setzen der Knotenkoordinaten, der Elementverbindungen und der Elementdaten\n",
    "bsp1.setNodalCoordinates(X)\n",
    "bsp1.setElementConnectivity(elements)\n",
    "bsp1.setElementData(areas,youngsM,loads)\n",
    "\n",
    "# Setzen der Randbedingungen\n",
    "bsp1.setDirichletBoundaryCondition([0,0,1],[0,1,1],[0,0,0]) # Knoten, Richtung, Wert\n",
    "bsp1.setExternalForces([1],[0],[5000]) # Knoten, Richtung, Wert\n",
    "\n",
    "# Kontrolle der Eingaben\n",
    "print(f\"Knotenkoordinaten:\\n{bsp1.coords}\")\n",
    "print(f\"Elementverbindungen:\\n{bsp1.elements}\")\n",
    "print(f\"Elementdaten:\\n{bsp1.eData}\")"
   ]
  },
  {
   "cell_type": "code",
   "execution_count": null,
   "id": "5779ddfa-1bdc-457a-ac75-567ab06c4fa3",
   "metadata": {},
   "outputs": [],
   "source": [
    "bsp1.plotMesh()"
   ]
  },
  {
   "cell_type": "code",
   "execution_count": null,
   "id": "77d1ab72-4515-4191-b0eb-b0bc3fcc56c6",
   "metadata": {},
   "outputs": [],
   "source": [
    "###############################################\n",
    "# Lösen des Problems\n",
    "###############################################\n",
    "\n",
    "# Schleife über alle Elemente, bilden der Elementmatrizen und -vektoren und assemblieren des globalen Systems\n",
    "bsp1.assembleGlobalMatrix()\n",
    "bsp1.assembleRightHandSide()\n",
    "# Lösen des Gleichungssystems\n",
    "bsp1.solveSystem()\n",
    "display(r\"$K_{ges}=$\",(bsp1.Kges))\n",
    "display(\"Displacement:\",bsp1.dof)\n",
    "display(\"Force:\",bsp1.Fges)"
   ]
  },
  {
   "cell_type": "markdown",
   "id": "28bbdc2e-3886-4d55-be2f-db3ffe94c1f4",
   "metadata": {},
   "source": [
    "### Darstellung der deformierten Struktur"
   ]
  },
  {
   "cell_type": "code",
   "execution_count": null,
   "id": "924e2a1f-1d6d-45a1-be92-64e78b65267b",
   "metadata": {},
   "outputs": [],
   "source": [
    "bsp1.plotMesh(deformed = True,scale = 10)"
   ]
  },
  {
   "cell_type": "markdown",
   "id": "aae77e86-ada6-40cd-8037-c8e7691cbdeb",
   "metadata": {},
   "source": [
    "### Präsentation der Ergebnisse und Vergleich mit analytischer Lösung"
   ]
  },
  {
   "cell_type": "markdown",
   "id": "abdb676a-1b11-4802-a089-98f01d33cd2d",
   "metadata": {},
   "source": [
    "#### Verschiebung am Ende des Balkens $u(x=\\ell)$"
   ]
  },
  {
   "cell_type": "code",
   "execution_count": null,
   "id": "26ba1b41-2bbe-4ab6-b408-e6544e00d225",
   "metadata": {},
   "outputs": [],
   "source": [
    "print(f\"Verschiebung am Ende des Balkens: {bsp1.getDisplacement(4000)} mm\")"
   ]
  },
  {
   "cell_type": "markdown",
   "id": "f64d4c9e-50d2-40a6-82fd-259d81be4d81",
   "metadata": {},
   "source": [
    "#### Schnittkraft an der Einpannung $N(x=0)$\n",
    "\n",
    "Dies entspricht der Reaktionskraft:"
   ]
  },
  {
   "cell_type": "code",
   "execution_count": null,
   "id": "a2caa504-76a8-426a-bdc2-db5c58f71d5e",
   "metadata": {},
   "outputs": [],
   "source": [
    "print(f\"Schnittkraft an der Einpannung: {-bsp1.Fges[0,0]/1000} kN\")"
   ]
  },
  {
   "cell_type": "markdown",
   "id": "d524651a-199f-4000-9873-5a09a4fdcf7a",
   "metadata": {},
   "source": [
    "### Vergleich mit analytischer Lösung\n",
    "\n",
    "#### Verschiebungsverlauf $u(x)$"
   ]
  },
  {
   "cell_type": "code",
   "execution_count": null,
   "id": "6772fd95-3161-4600-a596-bf1b2cb61631",
   "metadata": {},
   "outputs": [],
   "source": [
    "XN,u =bsp1.computeDisplacement()\n",
    "fig,ax = plt.subplots(1,1)\n",
    "\n",
    "ax.plot(XN/1000,u,label=\"u - FEM\")\n",
    "ax.set_title(\"Verschiebungsverlauf\")\n",
    "ax.set_xlabel(\"x [m]\")\n",
    "ax.set_ylabel(\"u [mm]\")\n",
    "ax.grid(True)\n",
    "\n",
    "### Analytische Lösung\n",
    "subs = {\n",
    "    \"E\":bsp1.eData[0][\"youngsmodulus\"],\n",
    "    \"A\":bsp1.eData[0][\"area\"],\n",
    "    \"n\":bsp1.eData[0][\"lineLoad\"],\n",
    "    \"ell\":4000,\n",
    "    \"F\":5000\n",
    "}\n",
    "analytic_u = sp.lambdify(x,ufun.subs(subs),\"numpy\")\n",
    "ax.plot(XN/1000,analytic_u(XN),label=\"u - analytisch\")\n",
    "ax.legend()"
   ]
  },
  {
   "cell_type": "markdown",
   "id": "6ca6c935-69f1-4495-ba98-a2ed28e6babd",
   "metadata": {},
   "source": [
    "#### Normalkraftverlauf $N(x)$"
   ]
  },
  {
   "cell_type": "code",
   "execution_count": null,
   "id": "7d9c5de6-c496-4ea1-8af2-80a663e9e3d6",
   "metadata": {},
   "outputs": [],
   "source": [
    "XN,N =bsp1.computeNormalkraft()\n",
    "fig,ax = plt.subplots(1,1)\n",
    "\n",
    "ax.plot(XN/1000,N/1000,label=\"N - FEM\")\n",
    "ax.set_title(\"Normalkraftverlauf\")\n",
    "ax.set_xlabel(\"x [m]\")\n",
    "ax.set_ylabel(\"N [kN]\")\n",
    "ax.grid(True)\n",
    "\n",
    "### Analytische Lösung\n",
    "analytic_N = sp.lambdify(x,Nfun.subs(subs),\"numpy\")\n",
    "ax.plot(XN/1000,analytic_N(XN)/1000,label=\"N - analytisch\")\n",
    "ax.legend()\n",
    "\n"
   ]
  },
  {
   "cell_type": "code",
   "execution_count": null,
   "id": "1f70da34-39e3-4d48-aa1a-8ab477e5933f",
   "metadata": {},
   "outputs": [],
   "source": [
    "errorN = (N[0]-analytic_N(0))/(analytic_N(0))\n",
    "print(f\"Fehler bei x=0: {errorN*100:.2f}%\")"
   ]
  },
  {
   "cell_type": "markdown",
   "id": "9eab4968-c5c7-4fda-9400-50a8c70ebd55",
   "metadata": {},
   "source": [
    "#### Spannungsvesverlauf  $\\sigma(x)$"
   ]
  },
  {
   "cell_type": "code",
   "execution_count": null,
   "id": "f75c329b-ff19-4e9c-b96c-fc65121b4861",
   "metadata": {},
   "outputs": [],
   "source": [
    "fig,ax = plt.subplots(1,1)\n",
    "\n",
    "area = bsp1.eData[0][\"area\"]\n",
    "\n",
    "ax.plot(XN/1000,N/area,label=\"$\\\\sigma$ - FEM\")\n",
    "ax.set_title(\"Spannungsverlauf\")\n",
    "ax.set_xlabel(\"x [m]\")\n",
    "ax.set_ylabel(\"$\\\\sigma$ [MPa]\")\n",
    "ax.grid(True)\n",
    "\n",
    "### Analytische Lösung\n",
    "analytic_N = sp.lambdify(x,Nfun.subs(subs),\"numpy\")\n",
    "ax.plot(XN/1000,analytic_N(XN)/area,label=\"$\\\\sigma$ - analytisch\")\n",
    "ax.legend()\n",
    "\n"
   ]
  },
  {
   "cell_type": "markdown",
   "id": "70a1485d-3653-4b95-bcc9-e5199461b440",
   "metadata": {},
   "source": [
    "### Aufgabe:\n",
    "\n",
    "Versuchen Sie das Problem mit 2 und mit 3 Elementen zu lösen. Ändern Sie hierfür den obigen Quellcode ab."
   ]
  },
  {
   "cell_type": "markdown",
   "id": "714d10a8-179a-4b7d-86f2-c16cd5fb8661",
   "metadata": {},
   "source": [
    "## Beispiel 2 - Fehleranalyse\n",
    "\n",
    "- Wieviele Elemente benötigt man, damit der Fehler der Normalkraft kleiner als 5 % ist?\n",
    "- Tragen Sie den Fehler in Abhängigkeit von der Anzahl der Elemente in einem Diagramm auf\n",
    "- Welcher Zusammenhang besteht zwischen dem Fehler und der relativen Elementgröße (Elementlänge) $\\frac{\\ell_e}{\\ell}$?"
   ]
  },
  {
   "cell_type": "code",
   "execution_count": null,
   "id": "f177d05d-a999-4794-82de-0a9f8fe61b0a",
   "metadata": {},
   "outputs": [],
   "source": [
    "#############################################\n",
    "# Hilfe\n",
    "#############################################\n",
    "\n",
    "ell = 4000 # Länge des Stabes in mm\n",
    "numnp = 3  # Wieviele Knoten sollen erzeugt werden?\n",
    "\n",
    "# Definiere die Koordinaten der beiden Randknoten\n",
    "X1 = np.array([0.0,0.0]) #mm\n",
    "X2 = np.array([ell,0.0]) #mm\n",
    "\n",
    "# Generate interpolation points\n",
    "t = np.linspace(0, 1, numnp)\n",
    "X = X1 + t[:, np.newaxis] * (X2 - X1)\n",
    "print(f\"Coordinates of the nodes: \\n{X}\") \n",
    "\n",
    "# Generate Elements\n",
    "IX = np.column_stack((np.arange(0, numnp-1), np.arange(1, numnp)))\n",
    "print(f\"Connectivity table: \\n{IX}\")"
   ]
  },
  {
   "cell_type": "code",
   "execution_count": null,
   "id": "c825dea5-8948-432b-8d8d-b4459603907e",
   "metadata": {},
   "outputs": [],
   "source": []
  },
  {
   "cell_type": "markdown",
   "id": "42313c09-40f3-4333-b7c4-1c1773b2acfa",
   "metadata": {},
   "source": [
    "## Beispiel 3 - Stabsystem\n",
    "\n",
    "Der dargestellte Verbundstab soll zwischen zwei feste\n",
    "Wände geklemmt werden. Für den Einbau wird das\n",
    "mittlere Stabteil mit der Kraft F zusammengedrückt.\n",
    "Wie groß muss F mindestens sein, damit der Einbau\n",
    "gelingt? Wie groß sind die Spannungen im Stab nach\n",
    "dem Einbau? Um wieviel ist das Mittelstück nach dem\n",
    "Einbau kürzer als vor dem Einbau?\n",
    "\n",
    "<div style=\"display: flex;\">\n",
    "    <div style=\"flex: 50%;\">\n",
    "        <img src=\"images/Stab_03.png\" alt=\"Stab\" style=\"max-width: 100%;\">\n",
    "    </div>\n",
    "    <div style=\"flex: 50%;\">\n",
    "        <p>Gegebene Größen</p>\n",
    "        <ul>\n",
    "            <li>E-Stahl = 210 GPa</li>\n",
    "            <li>E-Cu = 105 GPa</li>\n",
    "            <li>A-Stahl = 30 mm²</li>\n",
    "            <li>A-Cu = 60 mm²</li>\n",
    "            <li>a = 150 mm </li>\n",
    "            <li>h = 3 mm </li>\n",
    "        </ul>\n",
    "        <p>Gesucht</p>\n",
    "        <ul>\n",
    "           <li>F um die Welle einzusetzen</li>\n",
    "           <li>Spannungen im Stab nach dem Einbau</li>\n",
    "           <li>Längenänderung des mittleren Wellenteils nach dem Einbau</li>\n",
    "    </div>\n",
    "</div>"
   ]
  },
  {
   "cell_type": "markdown",
   "id": "575c27b7-6ed2-4394-843b-b562ac497a1b",
   "metadata": {},
   "source": [
    "### Welche Kraft ist notwendig um den Stab einzubauen?"
   ]
  },
  {
   "cell_type": "code",
   "execution_count": null,
   "id": "a308b3a6-58f6-41eb-87fe-589f31dd6cab",
   "metadata": {},
   "outputs": [],
   "source": [
    "###############################################\n",
    "# SetUp des Problems\n",
    "###############################################\n",
    "\n",
    "a = ???\n",
    "Astahl = ???\n",
    "Acu = ???\n",
    "EStahl = ???\n",
    "ECu = ???\n",
    "h = ???\n",
    "\n",
    "bsp3 = StabFEM(numnp=4,numel=3)\n",
    "X = np.array([\n",
    "???\n",
    "])\n",
    "elements = np.array([\n",
    "???\n",
    "])\n",
    "areas = [Astahl,Acu,Astahl]\n",
    "youngsM = [EStahl,ECu,EStahl]\n",
    "loads = [0,0,0]\n",
    "\n",
    "# Setzen der Knotenkoordinaten, der Elementverbindungen und der Elementdaten\n",
    "bsp3.setNodalCoordinates(X)\n",
    "bsp3.setElementConnectivity(elements)\n",
    "bsp3.setElementData(areas,youngsM,loads)\n",
    "\n",
    "# Setzen der Randbedingungen\n",
    "bsp3.setDirichletBoundaryCondition(\n",
    "    [???], #Knoten\n",
    "    [???], #Richtung\n",
    "    [???]) #Wert\n",
    "\n",
    "# Kontrolle der Eingaben\n",
    "print(f\"Knotenkoordinaten:\\n{bsp3.coords}\")\n",
    "print(f\"Elementverbindungen:\\n{bsp3.elements}\")\n",
    "print(f\"Elementdaten:\\n{bsp3.eData}\")"
   ]
  },
  {
   "cell_type": "code",
   "execution_count": null,
   "id": "c11aec9c-421b-4d0e-b6a1-eaca8ad3eb93",
   "metadata": {
    "scrolled": true
   },
   "outputs": [],
   "source": [
    "bsp3.plotMesh()"
   ]
  },
  {
   "cell_type": "code",
   "execution_count": null,
   "id": "8960f663-71b5-4f13-b033-3601f05fe23c",
   "metadata": {},
   "outputs": [],
   "source": [
    "###############################################\n",
    "# Lösen des Problems\n",
    "###############################################\n",
    "\n",
    "# Schleife über alle Elemente, bilden der Elementmatrizen und -vektoren und assemblieren des globalen Systems\n",
    "\n",
    "???\n",
    "\n",
    "display(\"Displacement:\",bsp3.dof)\n",
    "display(\"Force:\",bsp3.Fges)\n",
    "print(f'Kraft die notwendig ist, das mittlere Wellenstück zusammenzudrücken: {bsp3.Fges[1,0]}')"
   ]
  },
  {
   "cell_type": "code",
   "execution_count": null,
   "id": "026cd52c-0993-49d2-85e6-4a7a95e106b5",
   "metadata": {},
   "outputs": [],
   "source": [
    "bsp3.plotMesh(deformed=True,scale=10)"
   ]
  },
  {
   "cell_type": "markdown",
   "id": "b6af74b9-102b-4819-a2b8-5f7fbfb213fb",
   "metadata": {},
   "source": [
    "### Welche Spannung liegt nach dem Einbau vor"
   ]
  },
  {
   "cell_type": "code",
   "execution_count": null,
   "id": "8ca0a55d-ec24-4a08-a3a3-4eeeb9f98484",
   "metadata": {},
   "outputs": [],
   "source": [
    "# Reset des Systems\n",
    "bsp3.resetFEM()\n",
    "\n",
    "# Setzen der Randbedingungen\n",
    "bsp3.setDirichletBoundaryCondition(\n",
    "    [???], # Knoten\n",
    "    [???], # Richtung\n",
    "    [???]) # Wert\n",
    "\n",
    "###############################################\n",
    "# Lösen des Problems\n",
    "###############################################\n",
    "\n",
    "# Schleife über alle Elemente, bilden der Elementmatrizen und -vektoren und assemblieren des globalen Systems\n",
    "\n",
    "???\n",
    "\n",
    "display(\"Displacement:\",bsp3.dof)\n",
    "display(\"Force:\",bsp3.Fges)"
   ]
  },
  {
   "cell_type": "code",
   "execution_count": null,
   "id": "5c3a2b38-4470-4896-84da-e05c89f82bbc",
   "metadata": {},
   "outputs": [],
   "source": [
    "XN,N =bsp3.computeNormalkraft()\n",
    "fig,ax = plt.subplots(1,1)\n",
    "\n",
    "ax.plot(XN/1000,N/1000,label=\"N - FEM\")\n",
    "ax.set_title(\"Normalkraftverlauf\")\n",
    "ax.set_xlabel(\"x [m]\")\n",
    "ax.set_ylabel(\"N [kN]\")\n",
    "ax.grid(True)\n",
    "\n",
    "ax.legend()\n",
    "sigstahl = ???\n",
    "sigcu    = ???\n",
    "print(f'Spannungen im Stahlstab: {sigstahl}')\n",
    "print(f'Spannungen im Kupferstab: {sigcu}')\n"
   ]
  },
  {
   "cell_type": "markdown",
   "id": "d0e49e04-05a6-4a5d-9b0a-d54f36e9c4db",
   "metadata": {},
   "source": [
    "### Dehnung im mittleren Stabteil\n"
   ]
  },
  {
   "cell_type": "code",
   "execution_count": null,
   "id": "4f01ef83-156f-4156-9220-1e23efed5a3c",
   "metadata": {},
   "outputs": [],
   "source": [
    "eps = ???\n",
    "print(f'Dehnung im mittleren Stab: {eps}')"
   ]
  },
  {
   "cell_type": "markdown",
   "id": "ce119697-208d-47ea-80c6-c98d869fe8ad",
   "metadata": {},
   "source": [
    "## Beispiel 4\n",
    "\n",
    "<div style=\"display: flex;\">\n",
    "    <div style=\"flex: 50%;\">\n",
    "        <img src=\"images/Brücke.png\" alt=\"Brücke\" style=\"max-width: 100%;\">\n",
    "    </div>\n",
    "    <div style=\"flex: 50%;\">\n",
    "        <p>Gegebene Größen</p>\n",
    "        <ul>\n",
    "            <li>E-Stahl = 210 GPa</li>\n",
    "            <li>A = 33.4 cm² (I-Profil - 200 )</li>\n",
    "            <li>a = 5 m </li>\n",
    "            <li>F = 10 kN </li>\n",
    "        </ul>\n",
    "        <p>Gesucht</p>\n",
    "        <ul>\n",
    "           <li>Verschiebung im Kraftangriffspunkt</li>\n",
    "    </div>\n",
    "</div>"
   ]
  },
  {
   "cell_type": "code",
   "execution_count": null,
   "id": "344e6dfd-f6d8-4c81-847d-6b569ea26695",
   "metadata": {},
   "outputs": [],
   "source": [
    "###############################################\n",
    "# SetUp des Problems\n",
    "###############################################\n",
    "\n",
    "a = 5*1000\n",
    "A = 33.4*10**2\n",
    "E = 210*10**3\n",
    "F = -1000*10**3\n",
    "\n",
    "X = np.array([\n",
    "    ???\n",
    "])\n",
    "elements = np.array([\n",
    "   ???\n",
    "])\n",
    "\n",
    "\n",
    "numnp = X.shape[0]\n",
    "numel = elements.shape[0]\n",
    "\n",
    "bsp4 = StabFEM(numnp,numel)\n",
    "\n",
    "areas = [A for i in range(0,numel)]\n",
    "youngsM = [E for i in range(0,numel)]\n",
    "loads = [0 for i in range(0,numel)]\n",
    "\n",
    "# Setzen der Knotenkoordinaten, der Elementverbindungen und der Elementdaten\n",
    "bsp4.setNodalCoordinates(X)\n",
    "bsp4.setElementConnectivity(elements)\n",
    "bsp4.setElementData(areas,youngsM,loads)\n",
    "\n",
    "# Setzen der Randbedingungen\n",
    "bsp4.setDirichletBoundaryCondition(\n",
    "    [???], # Knoten\n",
    "    [???], # Richtung\n",
    "    [???]) # Wert\n",
    "bsp4.setExternalForces(\n",
    "    [???], # Knoten\n",
    "    [???], # Richtung\n",
    "    [???]) # Wert\n",
    ")\n",
    "\n",
    "# Kontrolle der Eingaben\n",
    "print(f\"Knotenkoordinaten:\\n{bsp4.coords}\")\n",
    "print(f\"Elementverbindungen:\\n{bsp4.elements}\")\n",
    "print(f\"Elementdaten:\\n{bsp4.eData}\")"
   ]
  },
  {
   "cell_type": "code",
   "execution_count": null,
   "id": "f6514513-dd63-408e-821b-59690ec1635d",
   "metadata": {},
   "outputs": [],
   "source": [
    "bsp4.plotMesh()"
   ]
  },
  {
   "cell_type": "code",
   "execution_count": null,
   "id": "02fd5a91-de44-408a-a596-3efe6c991cb2",
   "metadata": {},
   "outputs": [],
   "source": [
    "###############################################\n",
    "# Lösen des Problems\n",
    "###############################################\n",
    "\n",
    "# Schleife über alle Elemente, bilden der Elementmatrizen und -vektoren und assemblieren des globalen Systems\n",
    "bsp4.assembleGlobalMatrix()\n",
    "bsp4.assembleRightHandSide()\n",
    "# Lösen des Gleichungssystems\n",
    "bsp4.solveSystem()\n",
    "print(f'Verschiebung im Kraftangriffspunkt: { ??? } mm')"
   ]
  },
  {
   "cell_type": "code",
   "execution_count": null,
   "id": "61e00404-2e00-4fd6-afeb-b3e58c8ce485",
   "metadata": {},
   "outputs": [],
   "source": [
    "bsp4.plotMesh(deformed=True,scale=100)"
   ]
  },
  {
   "cell_type": "code",
   "execution_count": null,
   "id": "d3e42567-3553-4f2f-9e1d-7432b81b57d5",
   "metadata": {},
   "outputs": [],
   "source": []
  }
 ],
 "metadata": {
  "jupytext": {
   "formats": "md:myst,ipynb"
  },
  "kernelspec": {
   "display_name": "rise",
   "language": "python",
   "name": "python3"
  },
  "language_info": {
   "codemirror_mode": {
    "name": "ipython",
    "version": 3
   },
   "file_extension": ".py",
   "mimetype": "text/x-python",
   "name": "python",
   "nbconvert_exporter": "python",
   "pygments_lexer": "ipython3",
   "version": "3.10.16"
  }
 },
 "nbformat": 4,
 "nbformat_minor": 5
}
